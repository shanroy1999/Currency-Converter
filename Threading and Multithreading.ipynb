{
 "cells": [
  {
   "cell_type": "code",
   "execution_count": 1,
   "metadata": {},
   "outputs": [],
   "source": [
    "# Process => program running on the computer\n",
    "# Each process => made up of many different threads\n",
    "# thread => a task(set of operations) associated with a process\n",
    "\n",
    "# In RAM => we allocate some space for our process\n",
    "# RAM => like a queue => indicates which process will run first\n",
    "\n",
    "# Number of core processors => denotes number of parallel operations that can take place simultaneously\n",
    "# 4 core processor => split all the different tasks into 4 groups => 4 times faster than single core processor\n",
    "# 4 processes => splitted into each core of the CPU => each core perform own operations independently\n",
    "\n",
    "# Process 1 => Core 1, Process 2 => Core 2, Process 3 => Core 3, Process 4 => Core 4\n",
    "# Allow to perform 4 processes simultaneously parrallely\n",
    "\n",
    "# At a time => only 1 thread can be running, 2 threads cannot run at exact same time\n",
    "# Threads => can be stacked up and processed sequencially(not parallely)\n",
    "\n",
    "# Python => allows to switch between threads\n",
    "# Before start of any program => 1 thread already present(main thread) => add other threads on top of it\n",
    "\n",
    "import threading\n",
    "import time"
   ]
  },
  {
   "cell_type": "code",
   "execution_count": 2,
   "metadata": {},
   "outputs": [
    {
     "name": "stdout",
     "output_type": "stream",
     "text": [
      "Starting thread-1\n",
      "Starting thread-2\n",
      "\n",
      "\n",
      "thread-2: Mon Oct 26 12:57:01 2020 5\n",
      "\n",
      "thread-2: Mon Oct 26 12:57:03 2020 4\n",
      "\n",
      "thread-2: Mon Oct 26 12:57:04 2020 3\n",
      "\n",
      "thread-2: Mon Oct 26 12:57:06 2020 2\n",
      "\n",
      "thread-2: Mon Oct 26 12:57:07 2020 1\n",
      "\n",
      "Exiting thread-2\n",
      "\n",
      "thread-1: Mon Oct 26 12:57:08 2020 5\n",
      "\n",
      "thread-1: Mon Oct 26 12:57:09 2020 4\n",
      "\n",
      "thread-1: Mon Oct 26 12:57:10 2020 3\n",
      "\n",
      "thread-1: Mon Oct 26 12:57:11 2020 2\n",
      "\n",
      "thread-1: Mon Oct 26 12:57:12 2020 1\n",
      "\n",
      "Exiting thread-1\n",
      "\n",
      "Exiting Main Thread\n"
     ]
    }
   ],
   "source": [
    "class myThread(threading.Thread):\n",
    "    def __init__(self, threadID, name, counter):\n",
    "        threading.Thread.__init__(self)  # handle low-level stuff\n",
    "        self.threadID = threadID\n",
    "        self.name = name\n",
    "        self.counter = counter\n",
    "        \n",
    "    # start the thread, run and end the thread\n",
    "    def run(self):\n",
    "        print(\"Starting \"+self.name+\"\\n\")\n",
    "        threadLock.acquire()                       # Lock the thread, dont let other threads to run until this thread finishes\n",
    "        print_time(self.name, self.counter, 5)\n",
    "        threadLock.release()                       # Release the lock on the thread, allow another thread start running\n",
    "        print(\"Exiting \"+self.name+\"\\n\")\n",
    "        \n",
    "# counter => starts from 5 and tries to get down to 0\n",
    "def print_time(threadName, delay, counter):\n",
    "    while counter:\n",
    "        time.sleep(delay)     # delaying the function for certain amount of time\n",
    "        print(\"%s: %s %s\"% (threadName, time.ctime(time.time()), counter) + \"\\n\")\n",
    "        counter -= 1\n",
    "        \n",
    "# Create a thread lock\n",
    "threadLock = threading.Lock()\n",
    "\n",
    "# Create 2 threads\n",
    "thread1 = myThread(1, \"thread-1\", 1)     # delay => 1 second\n",
    "thread2 = myThread(2, \"thread-2\", 1.5)   # delay => 1.5 seconds\n",
    "\n",
    "# Start the 2 threads\n",
    "thread1.start()\n",
    "thread2.start()\n",
    "\n",
    "\n",
    "thread1.join()\n",
    "thread2.join()\n",
    "print(\"Exiting Main Thread\")"
   ]
  },
  {
   "cell_type": "code",
   "execution_count": 3,
   "metadata": {},
   "outputs": [
    {
     "name": "stdout",
     "output_type": "stream",
     "text": [
      "Starting Payment\n",
      "\n",
      "Starting Sending Email\n",
      "\n",
      "Starting Loading Page\n",
      "\n",
      "Payment: Mon Oct 26 12:57:17 2020 5\n",
      "\n",
      "Payment: Mon Oct 26 12:57:22 2020 4\n",
      "\n",
      "Payment: Mon Oct 26 12:57:27 2020 3\n",
      "\n",
      "Payment: Mon Oct 26 12:57:32 2020 2\n",
      "\n",
      "Payment: Mon Oct 26 12:57:37 2020 1\n",
      "\n",
      "Exiting Payment\n",
      "\n",
      "Loading Page: Mon Oct 26 12:57:38 2020 3\n",
      "Sending Email: Mon Oct 26 12:57:38 2020 10\n",
      "\n",
      "\n",
      "Loading Page: Mon Oct 26 12:57:39 2020 2\n",
      "Sending Email: Mon Oct 26 12:57:39 2020 9\n",
      "\n",
      "\n",
      "Loading Page: Mon Oct 26 12:57:40 2020 1\n",
      "Sending Email: Mon Oct 26 12:57:40 2020 8\n",
      "\n",
      "\n",
      "Exiting Loading Page\n",
      "\n",
      "Sending Email: Mon Oct 26 12:57:41 2020 7\n",
      "\n",
      "Sending Email: Mon Oct 26 12:57:42 2020 6\n",
      "\n",
      "Sending Email: Mon Oct 26 12:57:43 2020 5\n",
      "\n",
      "Sending Email: Mon Oct 26 12:57:44 2020 4\n",
      "\n",
      "Sending Email: Mon Oct 26 12:57:45 2020 3\n",
      "\n",
      "Sending Email: Mon Oct 26 12:57:46 2020 2\n",
      "\n",
      "Sending Email: Mon Oct 26 12:57:47 2020 1\n",
      "\n",
      "Exiting Sending Email\n",
      "\n",
      "Exiting Main Thread\n"
     ]
    }
   ],
   "source": [
    "class myThread2(threading.Thread):\n",
    "    def __init__(self, threadID, name, counter):\n",
    "        threading.Thread.__init__(self)  # handle low-level stuff\n",
    "        self.threadID = threadID\n",
    "        self.name = name\n",
    "        self.counter = counter\n",
    "        \n",
    "    # start the thread, run and end the thread\n",
    "    def run(self):\n",
    "        print(\"Starting \"+self.name+\"\\n\")\n",
    "        threadLock.acquire()                       # Lock the thread, dont let other threads to run until this thread finishes\n",
    "        threadLock.release()                       # Instantaneously Release the lock on the thread, allow another thread start running\n",
    "        print_time(self.name, 1, self.counter)\n",
    "        print(\"Exiting \"+self.name+\"\\n\")\n",
    "        \n",
    "# Create a thread lock\n",
    "threadLock = threading.Lock()\n",
    "\n",
    "# Create 2 threads\n",
    "thread1 = myThread(1, \"Payment\", 5)     # delay => 5 seconds\n",
    "thread2 = myThread2(2, \"Sending Email\", 10)   # delay => 10 seconds\n",
    "thread3 = myThread2(3, \"Loading Page\", 3)    # delay => 3 seconds\n",
    "\n",
    "# Start the 2 threads\n",
    "thread1.start()\n",
    "thread2.start()\n",
    "thread3.start()\n",
    "\n",
    "thread1.join()\n",
    "thread2.join()\n",
    "thread3.join()\n",
    "print(\"Exiting Main Thread\")"
   ]
  },
  {
   "cell_type": "code",
   "execution_count": 4,
   "metadata": {},
   "outputs": [
    {
     "name": "stdout",
     "output_type": "stream",
     "text": [
      "ran\n",
      "\n",
      "6\n",
      "Done\n",
      "finally\n",
      "\n",
      "\n",
      "\n"
     ]
    }
   ],
   "source": [
    "def func():\n",
    "    print(\"ran\")\n",
    "    print()\n",
    "    time.sleep(1)\n",
    "    print(\"Done\")\n",
    "    print()\n",
    "    time.sleep(1)\n",
    "    print(\"Now done\")\n",
    "    print()\n",
    "    \n",
    "x = threading.Thread(target=func, args=())   # create thread object\n",
    "x.start()\n",
    "print(threading.activeCount())    # get the amount of active threads\n",
    "time.sleep(1)\n",
    "print()\n",
    "print(\"finally\")\n",
    "print()"
   ]
  },
  {
   "cell_type": "code",
   "execution_count": 9,
   "metadata": {},
   "outputs": [
    {
     "name": "stdout",
     "output_type": "stream",
     "text": [
      "1\n",
      "1\n",
      "Done\n",
      "2\n",
      "2\n",
      "3\n",
      "3\n",
      "4\n",
      "4\n",
      "5\n",
      "5\n",
      "6\n",
      "6\n",
      "7\n",
      "7\n",
      "8\n",
      "8\n",
      "9\n",
      "9\n",
      "10\n",
      "10\n"
     ]
    }
   ],
   "source": [
    "def count(n):\n",
    "    for i in range(1, n+1):\n",
    "        print(i)\n",
    "        time.sleep(0.01)\n",
    "        \n",
    "for _ in range(2):\n",
    "    x = threading.Thread(target=count, args=(10,))\n",
    "    x.start()\n",
    "    \n",
    "print(\"Done\")"
   ]
  },
  {
   "cell_type": "code",
   "execution_count": 8,
   "metadata": {},
   "outputs": [
    {
     "name": "stdout",
     "output_type": "stream",
     "text": [
      "1\n",
      "1\n",
      "Done\n",
      "2\n",
      "3\n",
      "2\n",
      "4\n",
      "5\n",
      "3\n",
      "6\n",
      "7\n",
      "4\n",
      "8\n",
      "9\n",
      "5\n",
      "10\n",
      "6\n",
      "7\n",
      "8\n",
      "9\n",
      "10\n"
     ]
    }
   ],
   "source": [
    "def count(n):\n",
    "    for i in range(1, n+1):\n",
    "        print(i)\n",
    "        time.sleep(0.01)\n",
    "        \n",
    "def count2(n):\n",
    "    for i in range(1, n+1):\n",
    "        print(i)\n",
    "        time.sleep(0.02)\n",
    "        \n",
    "x = threading.Thread(target=count, args=(10,))\n",
    "x.start()\n",
    "\n",
    "y = threading.Thread(target=count2, args=(10,))\n",
    "y.start()\n",
    "\n",
    "print(\"Done\")"
   ]
  },
  {
   "cell_type": "code",
   "execution_count": 10,
   "metadata": {},
   "outputs": [
    {
     "name": "stdout",
     "output_type": "stream",
     "text": [
      "[1, 1]\n"
     ]
    }
   ],
   "source": [
    "l = []\n",
    "\n",
    "def count(n):\n",
    "    for i in range(1, n+1):\n",
    "        l.append(i)\n",
    "        time.sleep(0.5)\n",
    "        \n",
    "def count2(n):\n",
    "    for i in range(1, n+1):\n",
    "        l.append(i)\n",
    "        time.sleep(0.5)\n",
    "        \n",
    "x = threading.Thread(target=count, args=(5,))\n",
    "x.start()\n",
    "\n",
    "y = threading.Thread(target=count2, args=(5,))\n",
    "y.start()\n",
    "\n",
    "print(l)"
   ]
  },
  {
   "cell_type": "code",
   "execution_count": 11,
   "metadata": {},
   "outputs": [
    {
     "name": "stdout",
     "output_type": "stream",
     "text": [
      "[1, 1, 2, 2, 3, 3, 4, 4, 5, 5]\n"
     ]
    }
   ],
   "source": [
    "l = []\n",
    "\n",
    "def count(n):\n",
    "    for i in range(1, n+1):\n",
    "        l.append(i)\n",
    "        time.sleep(0.5)\n",
    "        \n",
    "def count2(n):\n",
    "    for i in range(1, n+1):\n",
    "        l.append(i)\n",
    "        time.sleep(0.5)\n",
    "        \n",
    "x = threading.Thread(target=count, args=(5,))\n",
    "x.start()\n",
    "\n",
    "y = threading.Thread(target=count2, args=(5,))\n",
    "y.start()\n",
    "\n",
    "x.join()   # Do not move past this line of code until thread 'x' stops running, wait for 'x' to stop running\n",
    "y.join()\n",
    "\n",
    "print(l)"
   ]
  },
  {
   "cell_type": "code",
   "execution_count": 12,
   "metadata": {},
   "outputs": [
    {
     "name": "stdout",
     "output_type": "stream",
     "text": [
      "[1, 2, 3, 4, 5, 1, 2, 3, 4, 5]\n"
     ]
    }
   ],
   "source": [
    "# Synchronization of Threads\n",
    "\n",
    "l = []\n",
    "\n",
    "def count(n):\n",
    "    for i in range(1, n+1):\n",
    "        l.append(i)\n",
    "        time.sleep(0.5)\n",
    "        \n",
    "def count2(n):\n",
    "    for i in range(1, n+1):\n",
    "        l.append(i)\n",
    "        time.sleep(0.5)\n",
    "        \n",
    "x = threading.Thread(target=count, args=(5,))\n",
    "x.start()\n",
    "x.join()   # Do not move past this line of code until thread 'x' stops running, wait for 'x' to stop running\n",
    "\n",
    "y = threading.Thread(target=count2, args=(5,))\n",
    "y.start()\n",
    "y.join()\n",
    "\n",
    "print(l)"
   ]
  }
 ],
 "metadata": {
  "kernelspec": {
   "display_name": "Python 3",
   "language": "python",
   "name": "python3"
  },
  "language_info": {
   "codemirror_mode": {
    "name": "ipython",
    "version": 3
   },
   "file_extension": ".py",
   "mimetype": "text/x-python",
   "name": "python",
   "nbconvert_exporter": "python",
   "pygments_lexer": "ipython3",
   "version": "3.7.6"
  }
 },
 "nbformat": 4,
 "nbformat_minor": 4
}
